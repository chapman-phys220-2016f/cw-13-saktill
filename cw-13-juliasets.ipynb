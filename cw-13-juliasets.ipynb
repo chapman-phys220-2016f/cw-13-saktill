{
 "cells": [
  {
   "cell_type": "code",
   "execution_count": 1,
   "metadata": {
    "collapsed": false
   },
   "outputs": [],
   "source": [
    "import numpy as np\n",
    "import numba as nb  #uncomment for numba\n",
    "import matplotlib.pyplot as plt\n",
    "%matplotlib inline\n"
   ]
  },
  {
   "cell_type": "code",
   "execution_count": 3,
   "metadata": {
    "collapsed": false,
    "scrolled": true
   },
   "outputs": [
    {
     "name": "stdout",
     "output_type": "stream",
     "text": [
      "CPU times: user 272 ms, sys: 1.46 s, total: 1.73 s\n",
      "Wall time: 2.37 s\n",
      "CPU times: user 48.3 s, sys: 812 ms, total: 49.1 s\n",
      "Wall time: 50.9 s\n"
     ]
    }
   ],
   "source": [
    "def julia(c):\n",
    "    @np.vectorize  #comment for numba\n",
    "    #@nb.vectorize #uncomment for numba\n",
    "    def j(z):\n",
    "        for n in range(100):\n",
    "            z = z**2 + c\n",
    "            if abs(z) > 2:\n",
    "                return n\n",
    "        return 0\n",
    "    return j\n",
    "\n",
    "j = julia(0.345 + 0.45j)\n",
    "\n",
    "#@nb.jit  #uncomment for numba\n",
    "def cplane(min=-1.5, max=1.5, points=10000):\n",
    "    r = np.linspace(-1.5, 1.5, 4000)\n",
    "    x, y = np.meshgrid(r,r)\n",
    "    z = x + y * 1j\n",
    "    return z\n",
    "\n",
    "%time z = cplane()\n",
    "%time jset = j(z)\n",
    "\n",
    "#plt.figure(1, (20,15))\n",
    "#plt.imshow(jset, cmap=plt.cm.bone)\n",
    "#plt.xticks([])\n",
    "#plt.yticks([])\n",
    "#plt.title(\"Julia Set : c = 0.345 + 0.45j\")\n",
    "#plt.show()"
   ]
  },
  {
   "cell_type": "code",
   "execution_count": 2,
   "metadata": {
    "collapsed": false
   },
   "outputs": [
    {
     "name": "stdout",
     "output_type": "stream",
     "text": [
      "CPU times: user 576 ms, sys: 512 ms, total: 1.09 s\n",
      "Wall time: 1.89 s\n",
      "CPU times: user 2.81 s, sys: 56 ms, total: 2.86 s\n",
      "Wall time: 4.21 s\n"
     ]
    }
   ],
   "source": [
    "def julia(c):\n",
    "    #@np.vectorize  #comment for numba\n",
    "    @nb.vectorize #uncomment for numba\n",
    "    def j(z):\n",
    "        for n in range(100):\n",
    "            z = z**2 + c\n",
    "            if abs(z) > 2:\n",
    "                return n\n",
    "        return 0\n",
    "    return j\n",
    "\n",
    "j = julia(0.345 + 0.45j)\n",
    "\n",
    "@nb.jit  #uncomment for numba\n",
    "def cplane(min=-1.5, max=1.5, points=10000):\n",
    "    r = np.linspace(-1.5, 1.5, 5000)\n",
    "    x, y = np.meshgrid(r,r)\n",
    "    z = x + y * 1j\n",
    "    return z\n",
    "\n",
    "%time z = cplane()\n",
    "%time jset = j(z)\n",
    "\n",
    "#plt.figure(1, (20,15))\n",
    "#plt.imshow(jset, cmap=plt.cm.bone)\n",
    "#plt.xticks([])\n",
    "#plt.yticks([])\n",
    "#plt.title(\"Julia Set : c = 0.345 + 0.45j\")\n",
    "#plt.show()"
   ]
  },
  {
   "cell_type": "markdown",
   "metadata": {
    "collapsed": true
   },
   "source": [
    "We commented out the figure plots because our kernels kept dying when we tried to plot both figures. So for uniformity of testing, we just got rid of both figures.<br\\>\n",
    "<br\\>\n",
    "The first block of code is for testing the speed of numpy for computing the julia sets that we had been working on earlier in the semester. Calculations run through numpy and hence the regular compiler path of python took about 48 seconds.<br\\>\n",
    "But then once we inserted the numba decorators and changed the compiler path to go through the LLVM for the second block, we saw a drastic speed up in time. The total calculation took about 3 seconds.<br\\>\n",
    "A speed up of more than 15 times just for this fairly small computation is very impressive. Overall this is just a very useful little decorator.\n",
    "\n",
    "It failed to speed up the Runge-Kutta approximation, possibly due to incorrect use, but also possibly due to the way that Runge-Kutta needs to be implemented."
   ]
  },
  {
   "cell_type": "code",
   "execution_count": null,
   "metadata": {
    "collapsed": true
   },
   "outputs": [],
   "source": []
  }
 ],
 "metadata": {
  "kernelspec": {
   "display_name": "Anaconda (Python 3)",
   "language": "python",
   "name": "anaconda3"
  },
  "language_info": {
   "codemirror_mode": {
    "name": "ipython",
    "version": 3
   },
   "file_extension": ".py",
   "mimetype": "text/x-python",
   "name": "python",
   "nbconvert_exporter": "python",
   "pygments_lexer": "ipython3",
   "version": "3.5.2"
  }
 },
 "nbformat": 4,
 "nbformat_minor": 0
}
